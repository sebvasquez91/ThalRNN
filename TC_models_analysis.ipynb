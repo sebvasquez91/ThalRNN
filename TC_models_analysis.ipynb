{
 "cells": [
  {
   "cell_type": "code",
   "execution_count": 1,
   "metadata": {},
   "outputs": [
    {
     "data": {
      "text/plain": [
       "<module 'my_rnn_functions' from '/Users/svasquez91/My_scripts_Local/Models_Local/ThalRNN/my_rnn_functions.py'>"
      ]
     },
     "execution_count": 1,
     "metadata": {},
     "output_type": "execute_result"
    }
   ],
   "source": [
    "%matplotlib inline\n",
    "import matplotlib.pyplot as plt\n",
    "\n",
    "import tensorflow as tf\n",
    "import numpy as np\n",
    "import importlib\n",
    "from os.path import join\n",
    "\n",
    "import task\n",
    "from task import generate_trials\n",
    "\n",
    "import train\n",
    "from train import get_default_hp\n",
    "\n",
    "from network import Model\n",
    "\n",
    "import my_rnn_functions as mrnn\n",
    "importlib.reload(mrnn)"
   ]
  },
  {
   "cell_type": "code",
   "execution_count": 3,
   "metadata": {},
   "outputs": [],
   "source": [
    "saving_path = './saved_models'\n",
    "model_name = 'first_basic_TC_model_ctx_multi_sensory_delay_relu_seed_1'\n",
    "model_dir=join(saving_path,model_name)\n"
   ]
  },
  {
   "cell_type": "code",
   "execution_count": 4,
   "metadata": {},
   "outputs": [
    {
     "name": "stderr",
     "output_type": "stream",
     "text": [
      "WARNING: Logging before flag parsing goes to stderr.\n",
      "W0128 16:35:43.379248 4581832128 deprecation.py:323] From /Users/svasquez91/My_scripts_Local/Models_Local/ThalRNN/network.py:677: dense (from tensorflow.python.layers.core) is deprecated and will be removed in a future version.\n",
      "Instructions for updating:\n",
      "Use keras.layers.Dense instead.\n",
      "W0128 16:35:43.381517 4581832128 deprecation.py:323] From /Users/svasquez91/anaconda3/lib/python3.7/site-packages/tensorflow_core/python/layers/core.py:187: Layer.apply (from tensorflow.python.keras.engine.base_layer) is deprecated and will be removed in a future version.\n",
      "Instructions for updating:\n",
      "Please use `layer.__call__` method instead.\n",
      "W0128 16:35:43.394235 4581832128 deprecation.py:506] From /Users/svasquez91/anaconda3/lib/python3.7/site-packages/tensorflow_core/python/ops/resource_variable_ops.py:1630: calling BaseResourceVariable.__init__ (from tensorflow.python.ops.resource_variable_ops) with constraint is deprecated and will be removed in a future version.\n",
      "Instructions for updating:\n",
      "If using Keras pass *_constraint arguments to layers.\n",
      "W0128 16:35:44.882225 4581832128 deprecation.py:506] From /Users/svasquez91/My_scripts_Local/Models_Local/ThalRNN/network.py:410: calling Constant.__init__ (from tensorflow.python.ops.init_ops) with dtype is deprecated and will be removed in a future version.\n",
      "Instructions for updating:\n",
      "Call initializer instance with the dtype argument instead of passing it to the constructor\n",
      "W0128 16:35:44.883042 4581832128 deprecation.py:323] From /Users/svasquez91/My_scripts_Local/Models_Local/ThalRNN/network.py:701: dynamic_rnn (from tensorflow.python.ops.rnn) is deprecated and will be removed in a future version.\n",
      "Instructions for updating:\n",
      "Please use `keras.layers.RNN(cell)`, which is equivalent to this API\n",
      "W0128 16:35:44.989664 4581832128 deprecation.py:323] From /Users/svasquez91/My_scripts_Local/Models_Local/ThalRNN/network.py:424: Layer.add_variable (from tensorflow.python.keras.engine.base_layer) is deprecated and will be removed in a future version.\n",
      "Instructions for updating:\n",
      "Please use `layer.add_weight` method instead.\n",
      "W0128 16:35:44.997973 4581832128 deprecation.py:506] From /Users/svasquez91/My_scripts_Local/Models_Local/ThalRNN/network.py:428: calling Zeros.__init__ (from tensorflow.python.ops.init_ops) with dtype is deprecated and will be removed in a future version.\n",
      "Instructions for updating:\n",
      "Call initializer instance with the dtype argument instead of passing it to the constructor\n"
     ]
    },
    {
     "name": "stdout",
     "output_type": "stream",
     "text": [
      "Variables being optimized:\n",
      "<tf.Variable 'sen_input/kernel:0' shape=(65, 500) dtype=float32>\n",
      "<tf.Variable 'sen_input/bias:0' shape=(500,) dtype=float32>\n",
      "<tf.Variable 'rule_input/kernel:0' shape=(3, 500) dtype=float32>\n",
      "<tf.Variable 'rnn/leaky_rnn_cell_separate_input/kernel:0' shape=(500, 500) dtype=float32>\n",
      "<tf.Variable 'rnn/leaky_rnn_cell_separate_input/bias:0' shape=(500,) dtype=float32>\n",
      "<tf.Variable 'output/kernel:0' shape=(500, 33) dtype=float32>\n",
      "<tf.Variable 'output/bias:0' shape=(33,) dtype=float32>\n",
      "Model restored from file: ./trained_models/first_basic_TC_model_ctx_multi_sensory_delay_relu_seed_1/model.ckpt\n",
      "Variables being optimized:\n",
      "<tf.Variable 'sen_input/kernel:0' shape=(65, 500) dtype=float32>\n",
      "<tf.Variable 'sen_input/bias:0' shape=(500,) dtype=float32>\n",
      "<tf.Variable 'rule_input/kernel:0' shape=(3, 500) dtype=float32>\n",
      "<tf.Variable 'rnn/leaky_rnn_cell_separate_input/kernel:0' shape=(500, 500) dtype=float32>\n",
      "<tf.Variable 'rnn/leaky_rnn_cell_separate_input/bias:0' shape=(500,) dtype=float32>\n",
      "<tf.Variable 'output/kernel:0' shape=(500, 33) dtype=float32>\n",
      "<tf.Variable 'output/bias:0' shape=(33,) dtype=float32>\n",
      "Model restored from file: ./trained_models/first_basic_TC_model_ctx_multi_sensory_delay_relu_seed_1/model.ckpt\n",
      "sen_input/kernel:0\n",
      "sen_input/bias:0\n",
      "rule_input/kernel:0\n",
      "rnn/leaky_rnn_cell_separate_input/kernel:0\n",
      "rnn/leaky_rnn_cell_separate_input/bias:0\n",
      "output/kernel:0\n",
      "output/bias:0\n"
     ]
    }
   ],
   "source": [
    "importlib.reload(mrnn)\n",
    "model_data = mrnn.get_model_data(model_dir)"
   ]
  },
  {
   "cell_type": "code",
   "execution_count": 5,
   "metadata": {},
   "outputs": [
    {
     "data": {
      "image/png": "[encoded data removed]",
      "text/plain": [
       "<Figure size 1080x576 with 1 Axes>"
      ]
     },
     "metadata": {
      "needs_background": "light"
     },
     "output_type": "display_data"
    }
   ],
   "source": [
    "w_type = 'output'\n",
    "mrnn.plot_weight_matrix(model_data,w_type,abs_weights=False)"
   ]
  }
 ],
 "metadata": {
  "kernelspec": {
   "display_name": "Python 3",
   "language": "python",
   "name": "python3"
  },
  "language_info": {
   "codemirror_mode": {
    "name": "ipython",
    "version": 3
   },
   "file_extension": ".py",
   "mimetype": "text/x-python",
   "name": "python",
   "nbconvert_exporter": "python",
   "pygments_lexer": "ipython3",
   "version": "3.7.4"
  }
 },
 "nbformat": 4,
 "nbformat_minor": 2
}
